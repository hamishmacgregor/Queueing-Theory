{
 "cells": [
  {
   "cell_type": "markdown",
   "metadata": {},
   "source": [
    "\n",
    "## OR Study Group: Queueing Theory\n",
    "\n",
    "### Collaborators: \n",
    "* Clare Essex\n",
    "* Hamish MacGregor\n",
    "* Rudi Narendran\n",
    "* Jonathan Teagles\n",
    "* Emma Tearse\n",
    "\n",
    "This notebook is designed to run simple queueing theory models using python via mybinder.org\n",
    "\n",
    "\n",
    "\n",
    "The notebook is structured in XX parts:\n",
    "* [Set Up](#setup)\n",
    "* [Theory](#theory1)\n",
    "* [Simple Queues - M/M/1](#simple)\n",
    "    * [Case Study 1: XX](#casestudy1)\n",
    "* [Understanding $\\lambda$, $\\alpha$ and other variables](#theory2)\n",
    "* [Complex Queues - M/M/$\\infty$](#complex)\n",
    "    * [Case Study 2: XX](#casestudy2)"
   ]
  },
  {
   "cell_type": "markdown",
   "metadata": {},
   "source": [
    "## Set Up <a class = \"anchor\" id = \"setup\"></a>"
   ]
  },
  {
   "cell_type": "markdown",
   "metadata": {},
   "source": [
    "We need to install some packages to run this notebook:\n",
    "* **pandas** - this is a package for *shaping* data\n",
    "* **numpy** - this is a package with helpful functions for *numerical transformations*\n",
    "* **matplotlib** - this is a package for *visualisiations*\n",
    "\n",
    "There are installed using the command **pip install 'package'** and then *imported* into your notebook using **import 'package'**, we can give the package a shortened name as we will need to call it a lot later.\n",
    "\n",
    "*Note: pip should be run from the command line, to run a shell command from within a notebook cell, you must put a ! in from of the command*\n",
    "\n",
    "So let's do this for the above packages:"
   ]
  },
  {
   "cell_type": "code",
   "execution_count": null,
   "metadata": {},
   "outputs": [],
   "source": [
    "!pip install pandas\n",
    "import pandas as pd"
   ]
  },
  {
   "cell_type": "code",
   "execution_count": null,
   "metadata": {},
   "outputs": [],
   "source": [
    "!pip  install numpy\n",
    "import numpy as np"
   ]
  },
  {
   "cell_type": "code",
   "execution_count": null,
   "metadata": {},
   "outputs": [],
   "source": [
    "!pip install matplotlib\n",
    "import matplotlib.pyplot as plt"
   ]
  },
  {
   "cell_type": "code",
   "execution_count": null,
   "metadata": {},
   "outputs": [],
   "source": [
    "!pip install ciw\n",
    "import ciw"
   ]
  },
  {
   "cell_type": "markdown",
   "metadata": {},
   "source": [
    "## Theory <a class = \"anchor\" id = \"theory1\"></a>"
   ]
  },
  {
   "cell_type": "code",
   "execution_count": null,
   "metadata": {},
   "outputs": [],
   "source": []
  },
  {
   "cell_type": "markdown",
   "metadata": {},
   "source": [
    "## Simple Queues - M/M/1  <a class = \"anchor\" id = \"simple\"></a>"
   ]
  },
  {
   "cell_type": "markdown",
   "metadata": {},
   "source": [
    "Here we will use the *ciw* package to build a simple M/M/1 queue, such as a queue at a supermarket checkout.\n",
    "First, we create the _network_ '_N_', which defines the structure of the queueing system.\n",
    "Functions preceded by _ciw._ are built into the *ciw* package."
   ]
  },
  {
   "cell_type": "code",
   "execution_count": null,
   "metadata": {},
   "outputs": [],
   "source": [
    "ciw.seed(1) # defines a random seed, ensuring the results are the same on each run\n",
    "\n",
    "N = ciw.create_network(\n",
    "    arrival_distributions = [ciw.dists.Exponential(0.2)],\n",
    "    service_distributions = [ciw.dists.Exponential(0.25)],\n",
    "    number_of_servers = [1])"
   ]
  },
  {
   "cell_type": "markdown",
   "metadata": {},
   "source": [
    "This network has three attributes:\n",
    "* The **arrival distribution**, which we have set to be exponential (Poisson process) with a mean arrival rate $\\lambda$ of 0.2 customers per minute (1 every 5 minutes)\n",
    "* The **service distribution**, which we have also set to be exponential with a mean arrival rate $\\mu$ of 0.25 customers per minute (1 every 4 minutes). Since $\\lambda < \\mu$, the queue should be stable and not grow indefinitely.\n",
    "* The **number of servers**, which in this case is 1.\n",
    "\n",
    "We can now simulate the queue by creating and running a *Simulation* object, *Q*:"
   ]
  },
  {
   "cell_type": "code",
   "execution_count": null,
   "metadata": {},
   "outputs": [],
   "source": [
    "Q = ciw.Simulation(N) # a Simulation object for our network N\n",
    "\n",
    "Q.simulate_until_max_time(1440) # run the simulation Q for 1440 minutes (one day)"
   ]
  },
  {
   "cell_type": "markdown",
   "metadata": {},
   "source": [
    "The *ciw* package automatically records useful statistics about the simulation. For instance, we can obtain the average time spent waiting in the queue, or the average time to be served:"
   ]
  },
  {
   "cell_type": "code",
   "execution_count": null,
   "metadata": {},
   "outputs": [],
   "source": [
    "recs = Q.get_all_records() # extracts all individual records into the list 'recs'\n",
    "\n",
    "wait_times = [r.waiting_time for r in recs] # loops through 'recs' extracting waiting times\n",
    "service_times = [r.service_time for r in recs] # likewise for service times"
   ]
  },
  {
   "cell_type": "markdown",
   "metadata": {},
   "source": [
    "We can now easily extract the mean waiting time and service time using np.mean():"
   ]
  },
  {
   "cell_type": "code",
   "execution_count": null,
   "metadata": {},
   "outputs": [],
   "source": [
    "np.mean(service_times)"
   ]
  },
  {
   "cell_type": "code",
   "execution_count": null,
   "metadata": {},
   "outputs": [],
   "source": [
    "np.mean(wait_times)"
   ]
  },
  {
   "cell_type": "markdown",
   "metadata": {},
   "source": [
    "*[Hamish] Idea for an interactive element: get everyone to set a different random seed, then we can use everyone's results to get average values for the waiting times etc*"
   ]
  },
  {
   "cell_type": "markdown",
   "metadata": {},
   "source": [
    "Let's explore the M/M/1 queue a little further. We can track the state of the system using a 'tracker'. Let's run the same queue three times with different random seeds, and look at the queue length over time."
   ]
  },
  {
   "cell_type": "code",
   "execution_count": null,
   "metadata": {},
   "outputs": [],
   "source": [
    "for trial in range(3):\n",
    "    ciw.seed(trial)\n",
    "    Q2 = ciw.Simulation(N, tracker = ciw.trackers.NodePopulationSubset([0])) #tracks the queue at the service node\n",
    "    Q2.simulate_until_max_time(480) #simulate for 8 hours\n",
    "    h = np.array(Q.statetracker.history) # extract an array containing the queue length over time\n",
    "    h[:, 1] = [i[0] for i in h[:, 1]] # convert tuples to integers\n",
    "    plt.plot(h[:, 0], h[:, 1])"
   ]
  },
  {
   "cell_type": "markdown",
   "metadata": {},
   "source": [
    "Try changing the mean arrival rate (at the top of this section) and see how the queue behaviour changes over time  (You will need to re-run any code blocks you change, in order top-to-bottom). What happens if you set the arrival rate higher than the service rate? What if they are equal?"
   ]
  },
  {
   "cell_type": "markdown",
   "metadata": {},
   "source": [
    "We can automate this experiment as well. Let's try varying the arrival rate, and measuring the average queue length.\n",
    "Notice that we can't take the time-average queue length when the arrival distribution exceeds the service rate,  since the queue length diverges to infinity over time.\n",
    "First we set up our trial arrival rates, and lists to store the results:"
   ]
  },
  {
   "cell_type": "code",
   "execution_count": null,
   "metadata": {},
   "outputs": [],
   "source": [
    "test_rates = [0.05, 0.10, 0.15, 0.17, 0.19, 0.21, 0.22, 0.23, 0.24, 0.245, 0.248]\n",
    "service_rate = 0.25\n",
    "queue_means = []\n",
    "queue_var = []"
   ]
  },
  {
   "cell_type": "markdown",
   "metadata": {},
   "source": [
    "We can now run the simulations:"
   ]
  },
  {
   "cell_type": "code",
   "execution_count": null,
   "metadata": {},
   "outputs": [],
   "source": [
    "for arrival_mean in test_rates:\n",
    "    N = ciw.create_network(\n",
    "        arrival_distributions = [ciw.dists.Exponential(arrival_mean)],\n",
    "        service_distributions = [ciw.dists.Exponential(service_rate)],\n",
    "        number_of_servers = [1])\n",
    "    \n",
    "    Q = ciw.Simulation(N, tracker = ciw.trackers.NodePopulationSubset([0]))\n",
    "    Q.simulate_until_max_time(1440) # a long simulation gives more accurate results in this experiment\n",
    "    probs = Q.statetracker.state_probabilities() # a discrete probability distribution for the queue length\n",
    "    probs = np.array(list(probs.items())) # convert dictionary object to array\n",
    "    probs[:, 0] = [i[0] for i in probs[:, 0]]\n",
    "    \n",
    "    queue_mean = sum(probs[:, 0] * probs[:, 1]) # calculate mean queue length\n",
    "    queue_means.append(queue_mean)\n",
    "    queue_var.append(sum(probs[:, 0] * probs[:, 0] * probs[:, 1]) - queue_mean) # calculate queue length variance\n",
    "    \n",
    "plt.plot(test_rates, queue_means)"
   ]
  },
  {
   "cell_type": "markdown",
   "metadata": {},
   "source": [
    "We can see that the average queue length increases rapidly as we approach equal arrival and service rates. The volatility of the queue also increases - long waiting times become much more likely!\n",
    "\n",
    "(Hamish) We can (and should) compare this with theory - use the simple $r/(1-r)$ for queue length with $r = \\lambda/\\mu$. I will leave to the theory experts..."
   ]
  },
  {
   "cell_type": "markdown",
   "metadata": {},
   "source": [
    "## Case Study 1 <a class = \"anchor\" id = \"casestudy1\"></a>"
   ]
  },
  {
   "cell_type": "code",
   "execution_count": null,
   "metadata": {},
   "outputs": [],
   "source": []
  },
  {
   "cell_type": "markdown",
   "metadata": {},
   "source": [
    "## Understanding Variables <a class = \"anchor\" id = \"theory2\"></a>"
   ]
  },
  {
   "cell_type": "code",
   "execution_count": null,
   "metadata": {},
   "outputs": [],
   "source": []
  },
  {
   "cell_type": "markdown",
   "metadata": {},
   "source": [
    "## Complex Queues - M/M/$\\infty$ <a class = \"anchor\" id = \"complex\"></a>"
   ]
  },
  {
   "cell_type": "code",
   "execution_count": null,
   "metadata": {},
   "outputs": [],
   "source": []
  },
  {
   "cell_type": "markdown",
   "metadata": {},
   "source": [
    "## Case Study 2 <a class = \"anchor\" id = \"casestudy2\"></a>"
   ]
  },
  {
   "cell_type": "code",
   "execution_count": null,
   "metadata": {},
   "outputs": [],
   "source": []
  }
 ],
 "metadata": {
  "kernelspec": {
   "display_name": "Python 3",
   "language": "python",
   "name": "python3"
  },
  "language_info": {
   "codemirror_mode": {
    "name": "ipython",
    "version": 3
   },
   "file_extension": ".py",
   "mimetype": "text/x-python",
   "name": "python",
   "nbconvert_exporter": "python",
   "pygments_lexer": "ipython3",
   "version": "3.7.3"
  }
 },
 "nbformat": 4,
 "nbformat_minor": 2
}
