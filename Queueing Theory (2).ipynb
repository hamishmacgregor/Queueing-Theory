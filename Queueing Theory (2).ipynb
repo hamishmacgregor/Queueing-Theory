{
 "cells": [
  {
   "cell_type": "markdown",
   "metadata": {},
   "source": [
    "\n",
    "## OR Study Group: Queueing Theory\n",
    "\n",
    "### Collaborators: \n",
    "* Clare Essex\n",
    "* Hamish MacGregor\n",
    "* Rudi Narendran\n",
    "* Jonathan Teagles\n",
    "* Emma Tearse\n",
    "\n",
    "This notebook is designed to run simple queueing theory models using python via mybinder.org\n",
    "\n",
    "\n",
    "\n",
    "The notebook is structured in XX parts:\n",
    "* [Set Up](#setup)\n",
    "* [Theory](#theory1)\n",
    "* [Simple Queues - M/M/1](#simple)\n",
    "    * [Case Study 1: XX](#casestudy1)\n",
    "* [Understanding $\\lambda$, $\\alpha$ and other variables](#theory2)\n",
    "* [Complex Queues - M/M/$\\infty$](#complex)\n",
    "    * [Case Study 2: XX](#casestudy2)"
   ]
  },
  {
   "cell_type": "markdown",
   "metadata": {},
   "source": [
    "## Set Up <a class = \"anchor\" id = \"setup\"></a>"
   ]
  },
  {
   "cell_type": "markdown",
   "metadata": {},
   "source": [
    "We need to install some packages to run this notebook:\n",
    "* **pandas** - this is a package for *shaping* data\n",
    "* **numpy** - this is a package with helpful functions for *numerical transformations*\n",
    "* **matplotlib** - this is a package for *visualisiations*\n",
    "\n",
    "There are installed using the command **pip install 'package'** and then *imported* into your notebook using **import 'package'**, we can give the package a shortened name as we will need to call it a lot later.\n",
    "\n",
    "*Note: pip should be run from the command line, to run a shell command from within a notebook cell, you must put a ! in from of the command*\n",
    "\n",
    "So let's do this for the above packages:"
   ]
  },
  {
   "cell_type": "code",
   "execution_count": 1,
   "metadata": {},
   "outputs": [
    {
     "name": "stdout",
     "output_type": "stream",
     "text": [
      "Requirement already satisfied: pandas in /home/CBAS/teaglesj/.conda/envs/qt_env/lib/python3.7/site-packages (1.1.0)\r\n",
      "Requirement already satisfied: python-dateutil>=2.7.3 in /home/CBAS/teaglesj/.conda/envs/qt_env/lib/python3.7/site-packages (from pandas) (2.8.1)\r\n",
      "Requirement already satisfied: pytz>=2017.2 in /home/CBAS/teaglesj/.conda/envs/qt_env/lib/python3.7/site-packages (from pandas) (2020.1)\r\n",
      "Requirement already satisfied: numpy>=1.15.4 in /home/CBAS/teaglesj/.conda/envs/qt_env/lib/python3.7/site-packages (from pandas) (1.19.1)\r\n",
      "Requirement already satisfied: six>=1.5 in /home/CBAS/teaglesj/.conda/envs/qt_env/lib/python3.7/site-packages (from python-dateutil>=2.7.3->pandas) (1.15.0)\r\n"
     ]
    }
   ],
   "source": [
    "!pip install pandas\n",
    "import pandas as pd"
   ]
  },
  {
   "cell_type": "code",
   "execution_count": 2,
   "metadata": {},
   "outputs": [
    {
     "name": "stdout",
     "output_type": "stream",
     "text": [
      "Requirement already satisfied: numpy in /home/CBAS/teaglesj/.conda/envs/qt_env/lib/python3.7/site-packages (1.19.1)\r\n"
     ]
    }
   ],
   "source": [
    "!pip  install numpy\n",
    "import numpy as np"
   ]
  },
  {
   "cell_type": "code",
   "execution_count": 3,
   "metadata": {},
   "outputs": [
    {
     "name": "stdout",
     "output_type": "stream",
     "text": [
      "Requirement already satisfied: matplotlib in /home/CBAS/teaglesj/.conda/envs/qt_env/lib/python3.7/site-packages (3.3.1)\n",
      "Requirement already satisfied: pyparsing!=2.0.4,!=2.1.2,!=2.1.6,>=2.0.3 in /home/CBAS/teaglesj/.conda/envs/qt_env/lib/python3.7/site-packages (from matplotlib) (2.4.7)\n",
      "Requirement already satisfied: pillow>=6.2.0 in /home/CBAS/teaglesj/.conda/envs/qt_env/lib/python3.7/site-packages (from matplotlib) (7.2.0)\n",
      "Requirement already satisfied: python-dateutil>=2.1 in /home/CBAS/teaglesj/.conda/envs/qt_env/lib/python3.7/site-packages (from matplotlib) (2.8.1)\n",
      "Requirement already satisfied: numpy>=1.15 in /home/CBAS/teaglesj/.conda/envs/qt_env/lib/python3.7/site-packages (from matplotlib) (1.19.1)\n",
      "Requirement already satisfied: certifi>=2020.06.20 in /home/CBAS/teaglesj/.conda/envs/qt_env/lib/python3.7/site-packages (from matplotlib) (2020.6.20)\n",
      "Requirement already satisfied: kiwisolver>=1.0.1 in /home/CBAS/teaglesj/.conda/envs/qt_env/lib/python3.7/site-packages (from matplotlib) (1.2.0)\n",
      "Requirement already satisfied: cycler>=0.10 in /home/CBAS/teaglesj/.conda/envs/qt_env/lib/python3.7/site-packages (from matplotlib) (0.10.0)\n",
      "Requirement already satisfied: six>=1.5 in /home/CBAS/teaglesj/.conda/envs/qt_env/lib/python3.7/site-packages (from python-dateutil>=2.1->matplotlib) (1.15.0)\n"
     ]
    }
   ],
   "source": [
    "!pip install matplotlib\n",
    "import matplotlib.pyplot as plt"
   ]
  },
  {
   "cell_type": "code",
   "execution_count": 4,
   "metadata": {},
   "outputs": [
    {
     "name": "stdout",
     "output_type": "stream",
     "text": [
      "Requirement already satisfied: ciw in /home/CBAS/teaglesj/.conda/envs/qt_env/lib/python3.7/site-packages (2.1.1)\n",
      "Requirement already satisfied: PyYAML>=5.1 in /home/CBAS/teaglesj/.conda/envs/qt_env/lib/python3.7/site-packages (from ciw) (5.3.1)\n",
      "Requirement already satisfied: tqdm==4.14.0 in /home/CBAS/teaglesj/.conda/envs/qt_env/lib/python3.7/site-packages (from ciw) (4.14.0)\n",
      "Requirement already satisfied: networkx>=2.3 in /home/CBAS/teaglesj/.conda/envs/qt_env/lib/python3.7/site-packages (from ciw) (2.4)\n",
      "Requirement already satisfied: decorator>=4.3.0 in /home/CBAS/teaglesj/.conda/envs/qt_env/lib/python3.7/site-packages (from networkx>=2.3->ciw) (4.4.2)\n"
     ]
    }
   ],
   "source": [
    "!pip install ciw\n",
    "import ciw"
   ]
  },
  {
   "cell_type": "markdown",
   "metadata": {},
   "source": [
    "## Simple Queue Simulation - M/M/1  <a class = \"anchor\" id = \"simple\"></a>"
   ]
  },
  {
   "cell_type": "markdown",
   "metadata": {},
   "source": [
    "Here we will use the *ciw* package to build a simple M/M/1 queue, such as a queue at a supermarket checkout. The system has a single server, with a single queue.\n",
    "\n",
    "First, we create the _network_ '_N_', which defines the structure of the queueing system.\n",
    "Functions preceded by _ciw._ are built into the *ciw* package."
   ]
  },
  {
   "cell_type": "code",
   "execution_count": 5,
   "metadata": {},
   "outputs": [],
   "source": [
    "#Set up mean arrival rate and service rate (see below)\n",
    "arrival_rate = 0.2\n",
    "service_rate = 0.25\n",
    "\n",
    "ciw.seed(1) # defines a random seed, ensuring the results are the same on each run\n",
    "\n",
    "N = ciw.create_network(\n",
    "    arrival_distributions = [ciw.dists.Exponential(arrival_rate)],\n",
    "    service_distributions = [ciw.dists.Exponential(service_rate)],\n",
    "    number_of_servers = [1])"
   ]
  },
  {
   "cell_type": "markdown",
   "metadata": {},
   "source": [
    "This network has three attributes:\n",
    "* The **arrival distribution**, which we have set to be exponential (Poisson process) with a mean arrival rate $\\lambda$ of 0.2 customers per minute (1 every 5 minutes)\n",
    "* The **service distribution**, which we have also set to be exponential with a mean arrival rate $\\mu$ of 0.25 customers per minute (1 every 4 minutes). Since $\\lambda < \\mu$, the queue should be stable and not grow indefinitely.\n",
    "* The **number of servers**, which in this case is 1.\n",
    "\n",
    "Note that the choice of units (minutes) is arbitrary and will work as long as we are consistent.\n",
    "\n",
    "We can now simulate the queue by creating and running a *Simulation* object, *Q*:"
   ]
  },
  {
   "cell_type": "code",
   "execution_count": 6,
   "metadata": {},
   "outputs": [],
   "source": [
    "Q = ciw.Simulation(N) # a Simulation object for our network N\n",
    "\n",
    "Q.simulate_until_max_time(1440) # run the simulation Q for 1440 minutes (one day)"
   ]
  },
  {
   "cell_type": "markdown",
   "metadata": {},
   "source": [
    "The *ciw* package automatically records useful statistics about the simulation. For instance, we can obtain the average time spent waiting in the queue, or the average time to be served:"
   ]
  },
  {
   "cell_type": "code",
   "execution_count": 7,
   "metadata": {},
   "outputs": [],
   "source": [
    "recs = Q.get_all_records() # extracts all individual records into the list 'recs'\n",
    "\n",
    "wait_times = [r.waiting_time for r in recs] # loops through 'recs' extracting waiting times\n",
    "service_times = [r.service_time for r in recs] # likewise for service times"
   ]
  },
  {
   "cell_type": "markdown",
   "metadata": {},
   "source": [
    "We can now easily extract the mean waiting time and service time using np.mean():"
   ]
  },
  {
   "cell_type": "code",
   "execution_count": 8,
   "metadata": {},
   "outputs": [
    {
     "data": {
      "text/plain": [
       "3.9426083677557755"
      ]
     },
     "execution_count": 8,
     "metadata": {},
     "output_type": "execute_result"
    }
   ],
   "source": [
    "#mean service time\n",
    "np.mean(service_times)"
   ]
  },
  {
   "cell_type": "code",
   "execution_count": 9,
   "metadata": {},
   "outputs": [
    {
     "data": {
      "text/plain": [
       "7.467608756778196"
      ]
     },
     "execution_count": 9,
     "metadata": {},
     "output_type": "execute_result"
    }
   ],
   "source": [
    "#mean waiting time\n",
    "np.mean(wait_times)"
   ]
  },
  {
   "cell_type": "markdown",
   "metadata": {},
   "source": [
    "We set up the simulation with $\\mu = 0.25$, so we are expecting a mean service time ($1/\\mu$) of 4 minutes - our result of 3.94 minutes is not far off. For the waiting time, we can use the formula\n",
    "\n",
    "$T = \\frac{\\mu}{1-\\lambda/\\mu} - \\frac{1}{\\mu}$"
   ]
  },
  {
   "cell_type": "code",
   "execution_count": 10,
   "metadata": {},
   "outputs": [
    {
     "data": {
      "text/plain": [
       "16.000000000000004"
      ]
     },
     "execution_count": 10,
     "metadata": {},
     "output_type": "execute_result"
    }
   ],
   "source": [
    "T = (1/service_rate)/(1-arrival_rate/service_rate) - 1/service_rate\n",
    "T"
   ]
  },
  {
   "cell_type": "markdown",
   "metadata": {},
   "source": [
    "Our estimate of 7.47 minutes is not so close here. This is because we are doing just one simulation - to get accurate results, we should run the simulation multiple times and average the results. Try setting a different seed and running it again!"
   ]
  },
  {
   "cell_type": "code",
   "execution_count": 11,
   "metadata": {},
   "outputs": [
    {
     "data": {
      "text/plain": [
       "13.839668659971318"
      ]
     },
     "execution_count": 11,
     "metadata": {},
     "output_type": "execute_result"
    }
   ],
   "source": [
    "# This block is for study group team only - what happens when you run multiple times with different seeds. \n",
    "# the results are an underestimate due to the transient behaviour at the start, but this is dealt with later.\n",
    "# we probably won't actually average their results during the presentation, just ask them to post in the chat. \n",
    "\n",
    "wait_array = np.array([])\n",
    "for trial in range(200):\n",
    "    ciw.seed(trial)\n",
    "    Q = ciw.Simulation(N)\n",
    "    Q.simulate_until_max_time(1440)\n",
    "    recs = Q.get_all_records()\n",
    "    wait_times = [r.waiting_time for r in recs]\n",
    "    service_times = [r.service_time for r in recs]\n",
    "    wait_array = np.append(wait_array, np.mean(wait_times))\n",
    "    \n",
    "np.mean(wait_array)"
   ]
  },
  {
   "cell_type": "markdown",
   "metadata": {},
   "source": [
    "### Plotting the queue behaviour\n",
    "\n",
    "Let's explore the M/M/1 queue a little further. We can track the state of the system using a 'tracker'. Let's run the same queue three times with different random seeds, and look at the queue length over time."
   ]
  },
  {
   "cell_type": "code",
   "execution_count": 12,
   "metadata": {},
   "outputs": [
    {
     "data": {
      "image/png": "[encoded data removed]",
      "text/plain": [
       "<Figure size 432x288 with 1 Axes>"
      ]
     },
     "metadata": {
      "needs_background": "light"
     },
     "output_type": "display_data"
    }
   ],
   "source": [
    "for trial in range(3):\n",
    "    ciw.seed(trial) #set a different seed for each run\n",
    "    \n",
    "    #set up and run a new simulation using the same network, with a tracker on the service node\n",
    "    Q2 = ciw.Simulation(N, tracker = ciw.trackers.NodePopulationSubset([0])) \n",
    "    Q2.simulate_until_max_time(480) #simulate for 8 hours\n",
    "    \n",
    "    #Extract the results (queue length over time) into an array\n",
    "    h = np.array(Q2.statetracker.history, dtype = object)\n",
    "    h[:, 1] = [i[0] for i in h[:, 1]] \n",
    "    plt.plot(h[:, 0], h[:, 1])"
   ]
  },
  {
   "cell_type": "markdown",
   "metadata": {},
   "source": [
    "Try changing the mean arrival rate (at the top of this section) and see how the queue behaviour changes over time  (You will need to re-run any code blocks you change, in order top-to-bottom). What happens if you set the arrival rate higher than the service rate? What if they are equal?"
   ]
  },
  {
   "cell_type": "markdown",
   "metadata": {},
   "source": [
    "We can compare our results to what we expect from the theory. Let's try varying the arrival rate, and measuring the average queue length.\n",
    "We can't take the time-average queue length when the arrival rate exceeds the service rate (since the queue length diverges to infinity over time), so we will keep our arrival rates below the service rate.\n",
    "\n",
    "First we set up our simulation parameters, and empty arrays to store the results:"
   ]
  },
  {
   "cell_type": "code",
   "execution_count": 13,
   "metadata": {},
   "outputs": [],
   "source": [
    "# set parameters\n",
    "test_rates = np.linspace(0.05, 0.245, 30) # we will test a range of arrival rates from 0.05 to 0.245\n",
    "service_rate = 0.25\n",
    "simulation_time = 1440\n",
    "\n",
    "#create arrays for results\n",
    "queue_means = np.array([])\n",
    "queue_var = np.array([])\n",
    "ciw.seed(3)"
   ]
  },
  {
   "cell_type": "markdown",
   "metadata": {},
   "source": [
    "We can now run the simulations:"
   ]
  },
  {
   "cell_type": "code",
   "execution_count": 14,
   "metadata": {},
   "outputs": [
    {
     "data": {
      "text/plain": [
       "[<matplotlib.lines.Line2D at 0x7f133dee6110>]"
      ]
     },
     "execution_count": 14,
     "metadata": {},
     "output_type": "execute_result"
    },
    {
     "data": {
      "image/png": "[encoded data removed]",
      "text/plain": [
       "<Figure size 432x288 with 1 Axes>"
      ]
     },
     "metadata": {
      "needs_background": "light"
     },
     "output_type": "display_data"
    }
   ],
   "source": [
    "for arrival_mean in test_rates:\n",
    "    N = ciw.create_network(\n",
    "        arrival_distributions = [ciw.dists.Exponential(arrival_mean)],\n",
    "        service_distributions = [ciw.dists.Exponential(service_rate)],\n",
    "        number_of_servers = [1])\n",
    "    \n",
    "    Q = ciw.Simulation(N, tracker = ciw.trackers.NodePopulationSubset([0]))\n",
    "    Q.simulate_until_max_time(simulation_time)\n",
    "    probs = Q.statetracker.state_probabilities() # a discrete probability distribution for the queue length\n",
    "    probs = np.array(list(probs.items()), dtype = object) # convert dictionary object to array\n",
    "    probs[:, 0] = [i[0] for i in probs[:, 0]]\n",
    "    \n",
    "    queue_mean = sum(probs[:, 0] * probs[:, 1]) # calculate mean queue length\n",
    "    queue_means = np.append(queue_means, queue_mean)\n",
    "    queue_var = np.append(queue_var,\n",
    "        sum(probs[:, 0] * probs[:, 0] * probs[:, 1]) - queue_mean) # calculate queue length variance\n",
    "    \n",
    "plt.plot(test_rates, queue_means)"
   ]
  },
  {
   "cell_type": "markdown",
   "metadata": {},
   "source": [
    "We can see that the average queue length increases rapidly as we approach equal arrival and service rates.\n",
    "\n",
    "The theory predicts that the mean queue length $L$ is determined by the following expressions:\n",
    "\n",
    "$L =  \\frac{\\lambda/\\mu}{1-\\lambda/\\mu}$\n",
    "\n",
    "We can compare this to our trials:"
   ]
  },
  {
   "cell_type": "code",
   "execution_count": 15,
   "metadata": {},
   "outputs": [
    {
     "data": {
      "text/plain": [
       "<matplotlib.legend.Legend at 0x7f133d9a5dd0>"
      ]
     },
     "execution_count": 15,
     "metadata": {},
     "output_type": "execute_result"
    },
    {
     "data": {
      "image/png": "[encoded data removed]",
      "text/plain": [
       "<Figure size 432x288 with 1 Axes>"
      ]
     },
     "metadata": {
      "needs_background": "light"
     },
     "output_type": "display_data"
    }
   ],
   "source": [
    "pred_length = (test_rates/service_rate)/(1 - test_rates/service_rate) #calculate theoretical results\n",
    "\n",
    "#plot and compare\n",
    "plt.plot(test_rates, queue_means, label = \"Simulation results\")\n",
    "plt.plot(test_rates, pred_length, '--', label = \"Theoretical results\")\n",
    "plt.legend()"
   ]
  },
  {
   "cell_type": "markdown",
   "metadata": {},
   "source": [
    "Something is not quite right here! The results are OK at low $\\lambda$, but as we increase the arrival rate, the simulation results become noisy and we appear to be underestimating the rise in average queue length. What have we done wrong?\n",
    "\n",
    "Answer below...\n",
    "\n",
    ".\n",
    "\n",
    ".\n",
    "\n",
    ".\n",
    "\n",
    ".\n",
    "\n",
    ".\n",
    "\n",
    ".\n",
    "\n",
    ".\n",
    "\n",
    ".\n",
    "\n",
    "**We have run the simulation for too short a time.** This is producing two effects:\n",
    "* *The simulation becomes noisy as the arrival rate approaches the service rate* - the theory predicts that the size of the fluctuations in the  queue length increases as $\\lambda$ approaches $\\mu$. In order to get accurate results, we must simulate for a long time.\n",
    "* *The queue has not reached a steady state* - as $\\lambda$ increases and the queue becomes longer, we must wait longer before the queue reaches a steady state. Near the start, the queue is shorter than average (since we started with an empty queue), so our mean queue length is too low. For a truly accurate result, we ought to exclude the start from our measurements, but we can improve things by running the simulation for longer.\n",
    "\n",
    "Try running the simulation again for a longer time, and see if the results improve!"
   ]
  },
  {
   "cell_type": "markdown",
   "metadata": {},
   "source": [
    "## Cafe Game <a class = \"anchor\" id = \"casestudy2\"></a>"
   ]
  },
  {
   "cell_type": "markdown",
   "metadata": {},
   "source": [
    "This simple game demonstrates the more advanced functionality of the *ciw* package. \n",
    "\n",
    "You are the manager of a city-centre take-away cafe (remember those?). There is a **single queue** for **up to five tills**, and you must set the schedule for staffing the tills through the day. If the queues get too long, customers will give up, but more staff will cost more money! Your aim is to make as much profit as you can (sales minus staff costs) in a single day.\n",
    "\n",
    "Run the code below to see the arrival rate for customers through the day"
   ]
  },
  {
   "cell_type": "code",
   "execution_count": 16,
   "metadata": {},
   "outputs": [
    {
     "data": {
      "text/plain": [
       "(6.0, 21.0)"
      ]
     },
     "execution_count": 16,
     "metadata": {},
     "output_type": "execute_result"
    },
    {
     "data": {
      "image/png": "[encoded data removed]",
      "text/plain": [
       "<Figure size 432x288 with 1 Axes>"
      ]
     },
     "metadata": {
      "needs_background": "light"
     },
     "output_type": "display_data"
    }
   ],
   "source": [
    "# Customer arrival rate\n",
    "arrivals = [0, 0, 0, 0, 0, 0, 20, 80, 200, 100, 50, 150, 350, 250, 100, 100, 100, 150, 75, 50, 20, 0, 0, 0]\n",
    "plt.bar(x = range(24),height = arrivals, align = 'edge')\n",
    "plt.xlabel(\"Time\")\n",
    "plt.ylabel(\"Customers per hour\")\n",
    "plt.xlim(6, 21)"
   ]
  },
  {
   "cell_type": "markdown",
   "metadata": {},
   "source": [
    "Now set the staff schedule. **Change the numbers in the first column** below to determine how many staff work each 2-hour shift (default is 1 for each shift, the second column represents time, in hours)\n",
    "\n",
    "The staff serve customers at an average of **one customer per minute**. You may not have more than **eight** staff on any shift.\n",
    "\n",
    "You earn £3 for each customer served, and you must pay the staff £50/hr"
   ]
  },
  {
   "cell_type": "code",
   "execution_count": 17,
   "metadata": {},
   "outputs": [],
   "source": [
    "sched = [[0, 6], #up to 6am (no staff, as there are no customers)\n",
    "        [1, 8],  #6-8am\n",
    "        [1, 10],  #8-10am\n",
    "        [1, 12],  #10am-12pm\n",
    "        [1, 14],  #12-2pm\n",
    "        [1, 16],  #2-4pm\n",
    "        [1, 18],  #4-6pm\n",
    "        [1, 20],  #6-8pm\n",
    "        [1, 22],  #8-10pm\n",
    "        [0, 24]]  #after 10pm (no staff)\n"
   ]
  },
  {
   "cell_type": "code",
   "execution_count": 18,
   "metadata": {
    "scrolled": true
   },
   "outputs": [
    {
     "name": "stdout",
     "output_type": "stream",
     "text": [
      "You served 815 customers, but 974 customers left in frustration.\n",
      "You earned GBP 2445.0 and spent GPB 800 on staff.\n",
      "Your total profit was GBP 1645.0\n"
     ]
    },
    {
     "data": {
      "image/png": "[encoded data removed]",
      "text/plain": [
       "<Figure size 432x288 with 1 Axes>"
      ]
     },
     "metadata": {
      "needs_background": "light"
     },
     "output_type": "display_data"
    }
   ],
   "source": [
    "#Now run this code block and see your results below!\n",
    "#(don't worry too much about the details of this code unless you want to)\n",
    "\n",
    "# set up the time-dependent arrival distribution\n",
    "class TimeDependentDist(ciw.dists.Distribution):\n",
    "    def sample(self, t, ind = None):\n",
    "        t_round = int(np.floor(t))\n",
    "        if arrivals[t_round] == 0:\n",
    "            return 1 # the system must have at least 1 customer arrive per hour - unavoidable in this case\n",
    "        return 1/arrivals[t_round]\n",
    "    \n",
    "#set seed\n",
    "ciw.seed(1)\n",
    "\n",
    "# customers are more likely to leave ('baulk') if queues are long\n",
    "def p_baulk(n):\n",
    "    if n<10:\n",
    "        return 0.0\n",
    "    if n<20:\n",
    "        return 0.35\n",
    "    if n<30:\n",
    "        return 0.7\n",
    "    return 1.0\n",
    "        \n",
    "\n",
    "#set up the network\n",
    "N_cafe = ciw.create_network(\n",
    "    arrival_distributions = [TimeDependentDist()],\n",
    "    service_distributions = [ciw.dists.Exponential(60)], # 60 customers per hour per server\n",
    "    baulking_functions = [p_baulk],\n",
    "    number_of_servers = [sched])\n",
    "\n",
    "Q_cafe = ciw.Simulation(N_cafe, tracker = ciw.trackers.NodePopulationSubset([0]))\n",
    "Q_cafe.simulate_until_max_time(24)\n",
    "\n",
    "staff_wage = 50\n",
    "staff_manhrs = sum([i[0] for i in sched])*2 #(2 hour shifts)\n",
    "staff_costs = staff_manhrs*staff_wage\n",
    "\n",
    "revenue_per_customer = 3.00\n",
    "custs_served = len(Q_cafe.nodes[-1].all_individuals)-9 # subtract the nine dummy customers out-of-hours\n",
    "custs_baulked = len(Q_cafe.baulked_dict[1][0])\n",
    "revenue = revenue_per_customer*custs_served\n",
    "profit = revenue - staff_costs\n",
    "\n",
    "print(\"You served\", custs_served, \"customers, but\", custs_baulked, \"customers left in frustration.\")\n",
    "print(\"You earned GBP\", revenue, \"and spent GPB\", staff_costs, \"on staff.\")\n",
    "print(\"Your total profit was GBP\", profit)\n",
    "\n",
    "h = np.array(Q_cafe.statetracker.history, dtype = object)\n",
    "h[:, 1] = [i[0] for i in h[:, 1]] \n",
    "plt.plot(h[:, 0], h[:, 1])\n",
    "plt.xlabel(\"Time\");\n",
    "plt.ylabel(\"Queue Length\");\n",
    "plt.xlim(6, 22);"
   ]
  },
  {
   "cell_type": "markdown",
   "metadata": {},
   "source": [
    "Can you do better?"
   ]
  },
  {
   "cell_type": "code",
   "execution_count": null,
   "metadata": {},
   "outputs": [],
   "source": []
  }
 ],
 "metadata": {
  "kernelspec": {
   "display_name": "Python 3",
   "language": "python",
   "name": "python3"
  },
  "language_info": {
   "codemirror_mode": {
    "name": "ipython",
    "version": 3
   },
   "file_extension": ".py",
   "mimetype": "text/x-python",
   "name": "python",
   "nbconvert_exporter": "python",
   "pygments_lexer": "ipython3",
   "version": "3.7.7"
  }
 },
 "nbformat": 4,
 "nbformat_minor": 2
}
