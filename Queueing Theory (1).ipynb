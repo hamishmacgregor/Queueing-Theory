{
 "cells": [
  {
   "cell_type": "markdown",
   "metadata": {},
   "source": [
    "\n",
    "## OR Study Group: Queueing Theory\n",
    "\n",
    "### Collaborators: \n",
    "* Clare Essex\n",
    "* Hamish MacGregor\n",
    "* Rudi Narendran\n",
    "* Jonathan Teagles\n",
    "* Emma Tearse\n",
    "\n",
    "This notebook is designed to run simple queueing theory models using python via mybinder.org\n",
    "\n",
    "\n",
    "\n",
    "The notebook is structured in XX parts:\n",
    "* [Set Up](#setup)\n",
    "* [Theory](#theory1)\n",
    "* [Simple Queues - M/M/1](#simple)\n",
    "    * [Case Study 1: XX](#casestudy1)\n",
    "* [Understanding $\\lambda$, $\\alpha$ and other variables](#theory2)\n",
    "* [Complex Queues - M/M/$\\infty$](#complex)\n",
    "    * [Case Study 2: XX](#casestudy2)"
   ]
  },
  {
   "cell_type": "markdown",
   "metadata": {},
   "source": [
    "## Set Up <a class = \"anchor\" id = \"setup\"></a>"
   ]
  },
  {
   "cell_type": "markdown",
   "metadata": {},
   "source": [
    "We need to install some packages to run this notebook:\n",
    "* **pandas** - this is a package for *shaping* data\n",
    "* **numpy** - this is a package with helpful functions for *numerical transformations*\n",
    "* **matplotlib** - this is a package for *visualisiations*\n",
    "\n",
    "There are installed using the command **pip install 'package'** and then *imported* into your notebook using **import 'package'**, we can give the package a shortened name as we will need to call it a lot later.\n",
    "\n",
    "*Note: pip should be run from the command line, to run a shell command from within a notebook cell, you must put a ! in from of the command*\n",
    "\n",
    "So let's do this for the above packages:"
   ]
  },
  {
   "cell_type": "code",
   "execution_count": null,
   "metadata": {},
   "outputs": [],
   "source": [
    "#!pip install pandas\n",
    "import pandas as pd"
   ]
  },
  {
   "cell_type": "code",
   "execution_count": null,
   "metadata": {},
   "outputs": [],
   "source": [
    "#!pip  install numpy\n",
    "import numpy as np"
   ]
  },
  {
   "cell_type": "code",
   "execution_count": null,
   "metadata": {},
   "outputs": [],
   "source": [
    "#!pip install matplotlib\n",
    "import matplotlib.pyplot as plt"
   ]
  },
  {
   "cell_type": "code",
   "execution_count": null,
   "metadata": {},
   "outputs": [],
   "source": [
    "#!pip install ciw\n",
    "import ciw"
   ]
  },
  {
   "cell_type": "markdown",
   "metadata": {},
   "source": [
    "## Theory <a class = \"anchor\" id = \"theory1\"></a>"
   ]
  },
  {
   "cell_type": "code",
   "execution_count": null,
   "metadata": {},
   "outputs": [],
   "source": []
  },
  {
   "cell_type": "markdown",
   "metadata": {},
   "source": [
    "## Simple Queues - M/M/1  <a class = \"anchor\" id = \"simple\"></a>"
   ]
  },
  {
   "cell_type": "markdown",
   "metadata": {},
   "source": [
    "Here we will use the *ciw* package to build a simple M/M/1 queue, such as a queue at a supermarket checkout.\n",
    "First, we create the _network_ '_N_', which defines the structure of the queueing system.\n",
    "Functions preceded by _ciw._ are built into the *ciw* package."
   ]
  },
  {
   "cell_type": "code",
   "execution_count": null,
   "metadata": {},
   "outputs": [],
   "source": [
    "#Set up mean arrival rate and service rate (see below)\n",
    "arrival_rate = 0.2\n",
    "service_rate = 0.25\n",
    "\n",
    "ciw.seed(1) # defines a random seed, ensuring the results are the same on each run\n",
    "\n",
    "N = ciw.create_network(\n",
    "    arrival_distributions = [ciw.dists.Exponential(arrival_rate)],\n",
    "    service_distributions = [ciw.dists.Exponential(service_rate)],\n",
    "    number_of_servers = [1])"
   ]
  },
  {
   "cell_type": "markdown",
   "metadata": {},
   "source": [
    "This network has three attributes:\n",
    "* The **arrival distribution**, which we have set to be exponential (Poisson process) with a mean arrival rate $\\lambda$ of 0.2 customers per minute (1 every 5 minutes)\n",
    "* The **service distribution**, which we have also set to be exponential with a mean arrival rate $\\mu$ of 0.25 customers per minute (1 every 4 minutes). Since $\\lambda < \\mu$, the queue should be stable and not grow indefinitely.\n",
    "* The **number of servers**, which in this case is 1.\n",
    "\n",
    "Note that the choice of units (minutes) is arbitrary and will work as long as we are consistent.\n",
    "\n",
    "We can now simulate the queue by creating and running a *Simulation* object, *Q*:"
   ]
  },
  {
   "cell_type": "code",
   "execution_count": null,
   "metadata": {},
   "outputs": [],
   "source": [
    "Q = ciw.Simulation(N) # a Simulation object for our network N\n",
    "\n",
    "Q.simulate_until_max_time(1440) # run the simulation Q for 1440 minutes (one day)"
   ]
  },
  {
   "cell_type": "markdown",
   "metadata": {},
   "source": [
    "The *ciw* package automatically records useful statistics about the simulation. For instance, we can obtain the average time spent waiting in the queue, or the average time to be served:"
   ]
  },
  {
   "cell_type": "code",
   "execution_count": null,
   "metadata": {},
   "outputs": [],
   "source": [
    "recs = Q.get_all_records() # extracts all individual records into the list 'recs'\n",
    "\n",
    "wait_times = [r.waiting_time for r in recs] # loops through 'recs' extracting waiting times\n",
    "service_times = [r.service_time for r in recs] # likewise for service times"
   ]
  },
  {
   "cell_type": "markdown",
   "metadata": {},
   "source": [
    "We can now easily extract the mean waiting time and service time using np.mean():"
   ]
  },
  {
   "cell_type": "code",
   "execution_count": null,
   "metadata": {},
   "outputs": [],
   "source": [
    "#mean service time\n",
    "np.mean(service_times)"
   ]
  },
  {
   "cell_type": "code",
   "execution_count": null,
   "metadata": {},
   "outputs": [],
   "source": [
    "#mean waiting time\n",
    "np.mean(wait_times)"
   ]
  },
  {
   "cell_type": "markdown",
   "metadata": {},
   "source": [
    "We set up the simulation with $\\mu = 0.25$, so we are expecting a mean service time ($1/\\mu$) of 4 minutes - our result of 3.94 minutes is not far off. For the waiting time, we can use the formula\n",
    "\n",
    "$T = \\frac{\\mu}{1-\\lambda/\\mu} - \\frac{1}{\\mu}$"
   ]
  },
  {
   "cell_type": "code",
   "execution_count": null,
   "metadata": {},
   "outputs": [],
   "source": [
    "T = (1/service_rate)/(1-arrival_rate/service_rate) - 1/service_rate\n",
    "T"
   ]
  },
  {
   "cell_type": "markdown",
   "metadata": {},
   "source": [
    "Our estimate of 7.47 minutes is not so close here. This is because we are doing just one simulation - to get accurate results, we should run the simulation multiple times and average the results. Try setting a different seed and running it again!"
   ]
  },
  {
   "cell_type": "code",
   "execution_count": null,
   "metadata": {},
   "outputs": [],
   "source": [
    "# This block is for study group team only - what happens when you run multiple times with different seeds. \n",
    "# the results are an underestimate due to the transient behaviour at the start, but this is dealt with later.\n",
    "# we probably won't actually average their results during the presentation, just ask them to post in the chat. \n",
    "\n",
    "wait_array = np.array([])\n",
    "for trial in range(200):\n",
    "    ciw.seed(trial)\n",
    "    Q = ciw.Simulation(N)\n",
    "    Q.simulate_until_max_time(1440)\n",
    "    recs = Q.get_all_records()\n",
    "    wait_times = [r.waiting_time for r in recs]\n",
    "    service_times = [r.service_time for r in recs]\n",
    "    wait_array = np.append(wait_array, np.mean(wait_times))\n",
    "    \n",
    "np.mean(wait_array)"
   ]
  },
  {
   "cell_type": "markdown",
   "metadata": {},
   "source": [
    "### Plotting the queue behaviour\n",
    "\n",
    "Let's explore the M/M/1 queue a little further. We can track the state of the system using a 'tracker'. Let's run the same queue three times with different random seeds, and look at the queue length over time."
   ]
  },
  {
   "cell_type": "code",
   "execution_count": null,
   "metadata": {},
   "outputs": [],
   "source": [
    "for trial in range(3):\n",
    "    ciw.seed(trial) #set a different seed for each run\n",
    "    \n",
    "    #set up and run a new simulation using the same network, with a tracker on the service node\n",
    "    Q2 = ciw.Simulation(N, tracker = ciw.trackers.NodePopulationSubset([0])) \n",
    "    Q2.simulate_until_max_time(480) #simulate for 8 hours\n",
    "    \n",
    "    #Extract the results (queue length over time) into an array\n",
    "    h = np.array(Q2.statetracker.history, dtype = object)\n",
    "    h[:, 1] = [i[0] for i in h[:, 1]] \n",
    "    plt.plot(h[:, 0], h[:, 1])"
   ]
  },
  {
   "cell_type": "markdown",
   "metadata": {},
   "source": [
    "Try changing the mean arrival rate (at the top of this section) and see how the queue behaviour changes over time  (You will need to re-run any code blocks you change, in order top-to-bottom). What happens if you set the arrival rate higher than the service rate? What if they are equal?"
   ]
  },
  {
   "cell_type": "markdown",
   "metadata": {},
   "source": [
    "We can compare our results to what we expect from the theory. Let's try varying the arrival rate, and measuring the average queue length.\n",
    "We can't take the time-average queue length when the arrival rate exceeds the service rate (since the queue length diverges to infinity over time), so we will keep our arrival rates below the service rate.\n",
    "\n",
    "First we set up our simulation parameters, and empty arrays to store the results:"
   ]
  },
  {
   "cell_type": "code",
   "execution_count": null,
   "metadata": {},
   "outputs": [],
   "source": [
    "# set parameters\n",
    "test_rates = np.linspace(0.05, 0.245, 30) # we will test a range of arrival rates from 0.05 to 0.245\n",
    "service_rate = 0.25\n",
    "simulation_time = 1440\n",
    "\n",
    "#create arrays for results\n",
    "queue_means = np.array([])\n",
    "queue_var = np.array([])\n",
    "ciw.seed(3)"
   ]
  },
  {
   "cell_type": "markdown",
   "metadata": {},
   "source": [
    "We can now run the simulations:"
   ]
  },
  {
   "cell_type": "code",
   "execution_count": null,
   "metadata": {},
   "outputs": [],
   "source": [
    "for arrival_mean in test_rates:\n",
    "    N = ciw.create_network(\n",
    "        arrival_distributions = [ciw.dists.Exponential(arrival_mean)],\n",
    "        service_distributions = [ciw.dists.Exponential(service_rate)],\n",
    "        number_of_servers = [1])\n",
    "    \n",
    "    Q = ciw.Simulation(N, tracker = ciw.trackers.NodePopulationSubset([0]))\n",
    "    Q.simulate_until_max_time(simulation_time)\n",
    "    probs = Q.statetracker.state_probabilities() # a discrete probability distribution for the queue length\n",
    "    probs = np.array(list(probs.items()), dtype = object) # convert dictionary object to array\n",
    "    probs[:, 0] = [i[0] for i in probs[:, 0]]\n",
    "    \n",
    "    queue_mean = sum(probs[:, 0] * probs[:, 1]) # calculate mean queue length\n",
    "    queue_means = np.append(queue_means, queue_mean)\n",
    "    queue_var = np.append(queue_var,\n",
    "        sum(probs[:, 0] * probs[:, 0] * probs[:, 1]) - queue_mean) # calculate queue length variance\n",
    "    \n",
    "plt.plot(test_rates, queue_means)"
   ]
  },
  {
   "cell_type": "markdown",
   "metadata": {},
   "source": [
    "We can see that the average queue length increases rapidly as we approach equal arrival and service rates.\n",
    "\n",
    "The theory predicts that the mean queue length $L$ is determined by the following expressions:\n",
    "\n",
    "$L =  \\frac{\\lambda/\\mu}{1-\\lambda/\\mu}$\n",
    "\n",
    "We can compare this to our trials:"
   ]
  },
  {
   "cell_type": "code",
   "execution_count": null,
   "metadata": {},
   "outputs": [],
   "source": [
    "pred_length = (test_rates/service_rate)/(1 - test_rates/service_rate) #calculate theoretical results\n",
    "\n",
    "#plot and compare\n",
    "plt.plot(test_rates, queue_means, label = \"Simulation results\")\n",
    "plt.plot(test_rates, pred_length, '--', label = \"Theoretical results\")\n",
    "plt.legend()"
   ]
  },
  {
   "cell_type": "markdown",
   "metadata": {},
   "source": [
    "Something is not quite right here! The results are OK at low $\\lambda$, but as we increase the arrival rate, the simulation results become noisy and we appear to be underestimating the rise in average queue length. What have we done wrong?\n",
    "\n",
    "Answer below...\n",
    "\n",
    ".\n",
    "\n",
    ".\n",
    "\n",
    ".\n",
    "\n",
    ".\n",
    "\n",
    ".\n",
    "\n",
    ".\n",
    "\n",
    ".\n",
    "\n",
    ".\n",
    "\n",
    "**We have run the simulation for too short a time.** This is producing two effects:\n",
    "* *The simulation becomes noisy as the arrival rate approaches the service rate* - the theory predicts that the size of the fluctuations in the  queue length increases as $\\lambda$ approaches $\\mu$. In order to get accurate results, we must simulate for a long time.\n",
    "* *The queue has not reached a steady state* - as $\\lambda$ increases and the queue becomes longer, we must wait longer before the queue reaches a steady state. Near the start, the queue is shorter than average (since we started with an empty queue), so our mean queue length is too low. For a truly accurate result, we ought to exclude the start from our measurements, but we can improve things by running the simulation for longer.\n",
    "\n",
    "Try running the simulation again for a longer time, and see if the results improve!"
   ]
  },
  {
   "cell_type": "markdown",
   "metadata": {},
   "source": [
    "## Case Study 1 <a class = \"anchor\" id = \"casestudy1\"></a>"
   ]
  },
  {
   "cell_type": "code",
   "execution_count": null,
   "metadata": {},
   "outputs": [],
   "source": []
  },
  {
   "cell_type": "markdown",
   "metadata": {},
   "source": [
    "## Understanding Variables <a class = \"anchor\" id = \"theory2\"></a>"
   ]
  },
  {
   "cell_type": "code",
   "execution_count": null,
   "metadata": {},
   "outputs": [],
   "source": []
  },
  {
   "cell_type": "markdown",
   "metadata": {},
   "source": [
    "## Complex Queues - M/M/$\\infty$ <a class = \"anchor\" id = \"complex\"></a>"
   ]
  },
  {
   "cell_type": "code",
   "execution_count": null,
   "metadata": {},
   "outputs": [],
   "source": []
  },
  {
   "cell_type": "markdown",
   "metadata": {},
   "source": [
    "## Case Study 2 <a class = \"anchor\" id = \"casestudy2\"></a>"
   ]
  },
  {
   "cell_type": "code",
   "execution_count": null,
   "metadata": {},
   "outputs": [],
   "source": []
  }
 ],
 "metadata": {
  "kernelspec": {
   "display_name": "Python 3",
   "language": "python",
   "name": "python3"
  },
  "language_info": {
   "codemirror_mode": {
    "name": "ipython",
    "version": 3
   },
   "file_extension": ".py",
   "mimetype": "text/x-python",
   "name": "python",
   "nbconvert_exporter": "python",
   "pygments_lexer": "ipython3",
   "version": "3.7.7"
  }
 },
 "nbformat": 4,
 "nbformat_minor": 2
}
