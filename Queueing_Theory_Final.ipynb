{
 "cells": [
  {
   "cell_type": "markdown",
   "metadata": {},
   "source": [
    "\n",
    "## OR Study Group: Queueing Theory - testversion\n",
    "\n",
    "### Collaborators: \n",
    "* Clare Essex\n",
    "* Hamish MacGregor\n",
    "* Rudi Narendran\n",
    "* Jonathan Teagles\n",
    "* Emma Tearse\n",
    "\n",
    "This notebook is designed to run simple queueing theory models using python via mybinder.org\n",
    "\n",
    "\n",
    "\n",
    "The notebook has three parts:\n",
    "* [Set Up](#setup)\n",
    "* [Simple Queue Simulation - M/M/1](#simple)\n",
    "* [Interactive cafe game](#cafe)"
   ]
  },
  {
   "cell_type": "markdown",
   "metadata": {},
   "source": [
    "## Set Up <a class = \"anchor\" id = \"setup\"></a>"
   ]
  },
  {
   "cell_type": "markdown",
   "metadata": {},
   "source": [
    "We need to install some packages to run this notebook:\n",
    "* **pandas** - this is a package for *shaping* data\n",
    "* **numpy** - this is a package with helpful functions for *numerical transformations*\n",
    "* **matplotlib** - this is a package for *visualisation*\n",
    "* **ciw** - this is a package for *queueing theory*\n",
    "\n",
    "*Documentation and examples for the ciw package can be found at http://ciw.readthedocs.io*\n",
    "\n",
    "These are installed using the command **pip install 'package'** and then *imported* into your notebook using **import 'package'**. We can give the package a shortened name if we will need to call it a lot later.\n",
    "\n",
    "*Note: pip should be run from the command line, to run a shell command from within a notebook cell, you must put a ! in from of the command*\n",
    "\n",
    "So let's do this for the above packages:\n",
    "*(to run blocks of code, click the arrow (on mybinder) or use Shift+Enter)*"
   ]
  },
  {
   "cell_type": "code",
   "execution_count": 1,
   "metadata": {},
   "outputs": [],
   "source": [
    "!pip install pandas\n",
    "import pandas as pd"
   ]
  },
  {
   "cell_type": "code",
   "execution_count": 2,
   "metadata": {},
   "outputs": [],
   "source": [
    "!pip  install numpy\n",
    "import numpy as np"
   ]
  },
  {
   "cell_type": "code",
   "execution_count": 3,
   "metadata": {},
   "outputs": [],
   "source": [
    "!pip install matplotlib\n",
    "import matplotlib.pyplot as plt"
   ]
  },
  {
   "cell_type": "code",
   "execution_count": 6,
   "metadata": {},
   "outputs": [
    {
     "name": "stdout",
     "output_type": "stream",
     "text": [
      "Collecting ciw\n",
      "  Downloading Ciw-2.1.3.tar.gz (86 kB)\n",
      "\u001b[K     |████████████████████████████████| 86 kB 2.7 MB/s eta 0:00:011\n",
      "\u001b[?25hRequirement already satisfied: PyYAML>=5.1 in /Users/hamish/opt/anaconda3/lib/python3.8/site-packages (from ciw) (5.3.1)\n",
      "Requirement already satisfied: networkx>=2.3 in /Users/hamish/opt/anaconda3/lib/python3.8/site-packages (from ciw) (2.5)\n",
      "Collecting tqdm==4.14.0\n",
      "  Downloading tqdm-4.14.0-py2.py3-none-any.whl (46 kB)\n",
      "\u001b[K     |████████████████████████████████| 46 kB 6.5 MB/s  eta 0:00:01\n",
      "\u001b[?25hRequirement already satisfied: decorator>=4.3.0 in /Users/hamish/opt/anaconda3/lib/python3.8/site-packages (from networkx>=2.3->ciw) (4.4.2)\n",
      "Building wheels for collected packages: ciw\n",
      "  Building wheel for ciw (setup.py) ... \u001b[?25ldone\n",
      "\u001b[?25h  Created wheel for ciw: filename=Ciw-2.1.3-py3-none-any.whl size=62069 sha256=beab1f162e9071744f0d30ab37739d1d4b7cb1859fe07c07bae0bd70ed367faf\n",
      "  Stored in directory: /Users/hamish/Library/Caches/pip/wheels/ca/6b/6b/5cd181a3eb3ce5d4e537c6be7fc021549e678c7d04f85bd81d\n",
      "Successfully built ciw\n",
      "Installing collected packages: tqdm, ciw\n",
      "  Attempting uninstall: tqdm\n",
      "    Found existing installation: tqdm 4.50.2\n",
      "    Uninstalling tqdm-4.50.2:\n",
      "      Successfully uninstalled tqdm-4.50.2\n",
      "Successfully installed ciw-2.1.3 tqdm-4.14.0\n"
     ]
    }
   ],
   "source": [
    "!pip install ciw\n",
    "import ciw"
   ]
  },
  {
   "cell_type": "markdown",
   "metadata": {},
   "source": [
    "## Simple Queue Simulation - M/M/1  <a class = \"anchor\" id = \"simple\"></a>"
   ]
  },
  {
   "cell_type": "markdown",
   "metadata": {},
   "source": [
    "Here we will use the *ciw* package to build a simple M/M/1 queue, such as a queue at a supermarket checkout. The system has a single server, with a single queue, and the arrivals and service are random, but at a constant average rate (Poisson/exponential distribution).\n",
    "\n",
    "First, we create the _network_ '_N_', which defines the structure of the queueing system.\n",
    "Functions preceded by _ciw._ are built into the *ciw* package."
   ]
  },
  {
   "cell_type": "code",
   "execution_count": null,
   "metadata": {},
   "outputs": [],
   "source": [
    "#Set up mean arrival rate and service rate (see below)\n",
    "arrival_rate = 0.2\n",
    "service_rate = 0.25\n",
    "\n",
    "ciw.seed(1) # defines a random seed, ensuring the results are the same on each run\n",
    "\n",
    "N = ciw.create_network(\n",
    "    arrival_distributions = [ciw.dists.Exponential(arrival_rate)],\n",
    "    service_distributions = [ciw.dists.Exponential(service_rate)],\n",
    "    number_of_servers = [1])"
   ]
  },
  {
   "cell_type": "markdown",
   "metadata": {},
   "source": [
    "This network has three attributes:\n",
    "* The **arrival distribution**, which we have set to be exponential (Poisson process) with a mean arrival rate $\\lambda$ of 0.2 customers per minute (1 every 5 minutes)\n",
    "* The **service distribution**, which we have also set to be exponential with a mean arrival rate $\\mu$ of 0.25 customers per minute (1 every 4 minutes). Since $\\lambda < \\mu$, the queue should be stable and not grow indefinitely.\n",
    "* The **number of servers**, which in this case is 1.\n",
    "\n",
    "Note that the choice of units (minutes) is arbitrary and will work as long as we are consistent.\n",
    "\n",
    "We can now simulate the queue by creating and running a *Simulation* object, *Q*:"
   ]
  },
  {
   "cell_type": "code",
   "execution_count": null,
   "metadata": {},
   "outputs": [],
   "source": [
    "Q = ciw.Simulation(N) # a Simulation object for our network N\n",
    "\n",
    "Q.simulate_until_max_time(1440) # run the simulation Q for 1440 minutes (one day)"
   ]
  },
  {
   "cell_type": "markdown",
   "metadata": {},
   "source": [
    "The *ciw* package automatically records useful statistics about the simulation. For instance, we can obtain the average time spent waiting in the queue, or the average time to be served:"
   ]
  },
  {
   "cell_type": "code",
   "execution_count": null,
   "metadata": {},
   "outputs": [],
   "source": [
    "recs = Q.get_all_records() # extracts all individual records into the list 'recs'\n",
    "\n",
    "wait_times = [r.waiting_time for r in recs] # loops through 'recs' extracting waiting times\n",
    "service_times = [r.service_time for r in recs] # likewise for service times"
   ]
  },
  {
   "cell_type": "markdown",
   "metadata": {},
   "source": [
    "We can now easily extract the mean waiting time and service time using np.mean():"
   ]
  },
  {
   "cell_type": "code",
   "execution_count": null,
   "metadata": {},
   "outputs": [],
   "source": [
    "#mean service time\n",
    "np.mean(service_times)"
   ]
  },
  {
   "cell_type": "code",
   "execution_count": null,
   "metadata": {},
   "outputs": [],
   "source": [
    "#mean waiting time\n",
    "np.mean(wait_times)"
   ]
  },
  {
   "cell_type": "markdown",
   "metadata": {},
   "source": [
    "We set up the simulation with $\\mu = 0.25$, so we are expecting a mean service time ($1/\\mu$) of 4 minutes - our result of 3.94 minutes is not far off. For the waiting time, we can use the formula\n",
    "\n",
    "$T = \\frac{1/\\mu}{1-\\lambda/\\mu} - \\frac{1}{\\mu}$"
   ]
  },
  {
   "cell_type": "code",
   "execution_count": null,
   "metadata": {},
   "outputs": [],
   "source": [
    "T = (1/service_rate)/(1-arrival_rate/service_rate) - 1/service_rate\n",
    "T"
   ]
  },
  {
   "cell_type": "markdown",
   "metadata": {},
   "source": [
    "Our estimate of 7.47 minutes is not so close here. This is because we are doing just one simulation - to get accurate results, we should run the simulation multiple times and average the results. Try setting a different seed and running it again!"
   ]
  },
  {
   "cell_type": "markdown",
   "metadata": {},
   "source": [
    "### Visualising the queue behaviour\n",
    "\n",
    "Let's explore the M/M/1 queue a little further. We can track the state of the system using a 'tracker'. Let's run the same queue three times with different random seeds, and look at the queue length over time."
   ]
  },
  {
   "cell_type": "code",
   "execution_count": null,
   "metadata": {},
   "outputs": [],
   "source": [
    "for trial in range(3):\n",
    "    ciw.seed(trial) #set a different seed for each run\n",
    "    \n",
    "    #set up and run a new simulation using the same network, with a tracker on the service node\n",
    "    Q2 = ciw.Simulation(N, tracker = ciw.trackers.NodePopulationSubset([0])) \n",
    "    Q2.simulate_until_max_time(480) #simulate for 8 hours\n",
    "    \n",
    "    #Extract the results (queue length over time) into an array\n",
    "    h = np.array(Q2.statetracker.history, dtype = object)\n",
    "    h[:, 1] = [i[0] for i in h[:, 1]] \n",
    "    plt.plot(h[:, 0], h[:, 1])"
   ]
  },
  {
   "cell_type": "markdown",
   "metadata": {},
   "source": [
    "We might be interested in how the queue behaviour depends on the **arrival rate** $\\lambda$. To see this, we could change the arrival rate (at the top of this section) and run the simulation again. What do you think might happen if $\\lambda > \\mu$? What if $\\lambda = \\mu$? "
   ]
  },
  {
   "cell_type": "markdown",
   "metadata": {},
   "source": [
    "We can compare our results to what we expect from the theory. Let's try varying the arrival rate, and measuring the average queue length.\n",
    "We can't take the time-average queue length when the arrival rate $\\lambda$ exceeds the service rate $\\mu$ (since the queue length diverges to infinity over time), so we will keep our arrival rates below the service rate.\n",
    "\n",
    "First we set up our simulation parameters, and empty arrays to store the results:"
   ]
  },
  {
   "cell_type": "code",
   "execution_count": null,
   "metadata": {},
   "outputs": [],
   "source": [
    "# set parameters\n",
    "test_rates = np.linspace(0.05, 0.245, 30) # we will test a range of arrival rates from 0.05 to 0.245\n",
    "service_rate = 0.25\n",
    "simulation_time = 1440\n",
    "\n",
    "# create arrays for results\n",
    "queue_means = np.array([])\n",
    "queue_var = np.array([])\n",
    "ciw.seed(3)"
   ]
  },
  {
   "cell_type": "markdown",
   "metadata": {},
   "source": [
    "We can now run the simulations:"
   ]
  },
  {
   "cell_type": "code",
   "execution_count": null,
   "metadata": {},
   "outputs": [],
   "source": [
    "for arrival_mean in test_rates:\n",
    "    N = ciw.create_network(\n",
    "        arrival_distributions = [ciw.dists.Exponential(arrival_mean)],\n",
    "        service_distributions = [ciw.dists.Exponential(service_rate)],\n",
    "        number_of_servers = [1])\n",
    "    \n",
    "    Q = ciw.Simulation(N, tracker = ciw.trackers.NodePopulationSubset([0]))\n",
    "    Q.simulate_until_max_time(simulation_time)\n",
    "    probs = Q.statetracker.state_probabilities() # a discrete probability distribution for the queue length\n",
    "    probs = np.array(list(probs.items()), dtype = object) # convert dictionary object to array\n",
    "    probs[:, 0] = [i[0] for i in probs[:, 0]]\n",
    "    \n",
    "    queue_mean = sum(probs[:, 0] * probs[:, 1]) # calculate mean queue length\n",
    "    queue_means = np.append(queue_means, queue_mean)\n",
    "    queue_var = np.append(queue_var,\n",
    "        sum(probs[:, 0] * probs[:, 0] * probs[:, 1]) - queue_mean) # calculate queue length variance\n",
    "    \n",
    "plt.plot(test_rates, queue_means);\n",
    "plt.axvline(0.250, 0, 10, ls = '--', c = \"grey\", label = \"$\\lambda = \\mu$\");\n",
    "plt.xlabel(\"Mean arrival rate $(\\lambda)$ / customers per hour\");\n",
    "plt.ylabel(\"Mean queue length\");\n",
    "plt.legend();"
   ]
  },
  {
   "cell_type": "markdown",
   "metadata": {},
   "source": [
    "We can see that, as we expect, the average queue length increases rapidly as we approach equal arrival and service rates.\n",
    "\n",
    "The theory predicts that the mean queue length $L$ is determined by the following expression:\n",
    "\n",
    "$L =  \\frac{\\lambda/\\mu}{1-\\lambda/\\mu}$\n",
    "\n",
    "We can compare this to our trials:"
   ]
  },
  {
   "cell_type": "code",
   "execution_count": null,
   "metadata": {},
   "outputs": [],
   "source": [
    "pred_length = (test_rates/service_rate)/(1 - test_rates/service_rate) #calculate theoretical results\n",
    "\n",
    "#plot and compare\n",
    "plt.plot(test_rates, queue_means, label = \"Simulation results\");\n",
    "plt.plot(test_rates, pred_length, '--', label = \"Theoretical results\");\n",
    "plt.axvline(0.250, 0, 50, ls = '--', c = \"grey\", label = \"$\\lambda = \\mu$\");\n",
    "plt.xlabel(\"Mean arrival rate $(\\lambda)$ / customers per hour\");\n",
    "plt.ylabel(\"Mean queue length\");\n",
    "plt.legend();"
   ]
  },
  {
   "cell_type": "markdown",
   "metadata": {},
   "source": [
    "Something is not quite right here! The results are OK at low $\\lambda$, but as we increase the arrival rate, the simulation results become noisy and we appear to be underestimating the rise in average queue length. What have we done wrong?\n",
    "\n",
    "Answer below...\n",
    "\n",
    ".\n",
    "\n",
    ".\n",
    "\n",
    ".\n",
    "\n",
    ".\n",
    "\n",
    ".\n",
    "\n",
    ".\n",
    "\n",
    ".\n",
    "\n",
    ".\n",
    "\n",
    "**We have run the simulation for too short a time.** This is producing the two errors:\n",
    "* *The simulation becomes noisy as the arrival rate approaches the service rate* - the theory predicts that the size of the fluctuations in the  queue length increases as $\\lambda$ approaches $\\mu$. This produces error in the mean - in order to reduce this, we must simulate for a longer time.\n",
    "* *The queue has not reached a steady state* - as $\\lambda$ increases and the queue becomes longer on average, we must wait longer before the queue reaches a steady state. Near the start, the queue is always shorter than average (since we started with an empty queue), so our mean queue length is too low. For a truly accurate result, we ought to exclude the start from our measurements, but we can improve things by running the simulation for longer.\n",
    "\n",
    "Try running the simulation again for a longer time, and see if the results improve!"
   ]
  },
  {
   "cell_type": "markdown",
   "metadata": {},
   "source": [
    "## Cafe Game <a class = \"anchor\" id = \"cafe\"></a>"
   ]
  },
  {
   "cell_type": "markdown",
   "metadata": {},
   "source": [
    "This simple game demonstrates the more advanced functionality of the *ciw* package. \n",
    "\n",
    "You are the manager of a city-centre take-away cafe (remember those?). There is a **single queue** for **up to eight tills**, and you must set the schedule for staffing the tills through the day. If the queues get too long, customers will give up, but more staff will cost more money! Your aim is to make as much profit as you can (sales minus staff costs) in a single day.\n",
    "\n",
    "Run the code below to see the arrival rate for customers through the day. Note that the time units are now in **hours**."
   ]
  },
  {
   "cell_type": "code",
   "execution_count": null,
   "metadata": {},
   "outputs": [],
   "source": [
    "# Customer arrival rate\n",
    "arrivals = [0, 0, 0, 0, 0, 0, 20, 80, 200, 100, 50, 150, 350, 250, 100, 100, 100, 150, 75, 50, 20, 0, 0, 0]\n",
    "plt.bar(x = range(24),height = arrivals, align = 'edge')\n",
    "plt.xlabel(\"Time\")\n",
    "plt.ylabel(\"Customers per hour\")\n",
    "plt.xlim(6, 21);"
   ]
  },
  {
   "cell_type": "markdown",
   "metadata": {},
   "source": [
    "#### Rules\n",
    "* The staff serve customers at an average of **one customer per minute**. You may not have more than **eight** staff on any shift.\n",
    "* You earn £3 for each customer served, and you must pay the staff £50/hr.\n",
    "* If the queues get too long, customers will start to get discouraged (this is called *baulking*)\n",
    "\n",
    "Now set the staff schedule. **Change the numbers in the first column** below to determine how many staff work each 2-hour shift (default is 1 staff on each shift, the second column represents the shift end time, in hours)"
   ]
  },
  {
   "cell_type": "code",
   "execution_count": null,
   "metadata": {},
   "outputs": [],
   "source": [
    "sched = [[0, 6], #up to 6am (no staff, as there are no customers)\n",
    "        [1, 8],  #6-8am\n",
    "        [1, 10],  #8-10am\n",
    "        [1, 12],  #10am-12pm\n",
    "        [1, 14],  #12-2pm\n",
    "        [1, 16],  #2-4pm\n",
    "        [1, 18],  #4-6pm\n",
    "        [1, 20],  #6-8pm\n",
    "        [1, 22],  #8-10pm\n",
    "        [0, 24]]  #after 10pm (no staff)\n"
   ]
  },
  {
   "cell_type": "code",
   "execution_count": null,
   "metadata": {
    "scrolled": true
   },
   "outputs": [],
   "source": [
    "#Now run this code block and see your results below!\n",
    "#(don't worry too much about the details of this code unless you want to)\n",
    "\n",
    "# set up the time-dependent arrival distribution\n",
    "class TimeDependentDist(ciw.dists.Distribution):\n",
    "    def sample(self, t, ind = None):\n",
    "        t_round = int(np.floor(t))\n",
    "        if arrivals[t_round] == 0:\n",
    "            return 1 # the system must have at least 1 customer arrive per hour - unavoidable in this case\n",
    "        return 1/arrivals[t_round]\n",
    "    \n",
    "#set seed\n",
    "ciw.seed(1)\n",
    "\n",
    "# customers are more likely to leave ('baulk') if queues are long\n",
    "def p_baulk(n):\n",
    "    if n<10:\n",
    "        return 0.0\n",
    "    if n<20:\n",
    "        return 0.35\n",
    "    if n<30:\n",
    "        return 0.7\n",
    "    return 1.0\n",
    "        \n",
    "\n",
    "#set up the network\n",
    "N_cafe = ciw.create_network(\n",
    "    arrival_distributions = [TimeDependentDist()],\n",
    "    service_distributions = [ciw.dists.Exponential(60)], # 60 customers per hour per server\n",
    "    baulking_functions = [p_baulk],\n",
    "    number_of_servers = [sched])\n",
    "\n",
    "Q_cafe = ciw.Simulation(N_cafe, tracker = ciw.trackers.NodePopulationSubset([0]))\n",
    "Q_cafe.simulate_until_max_time(24)\n",
    "\n",
    "staff_wage = 50\n",
    "staff_manhrs = sum([i[0] for i in sched])*2 #(2 hour shifts)\n",
    "staff_costs = staff_manhrs*staff_wage\n",
    "\n",
    "revenue_per_customer = 3.00\n",
    "custs_served = len(Q_cafe.nodes[-1].all_individuals)-9 # subtract the nine dummy customers out-of-hours\n",
    "custs_baulked = len(Q_cafe.baulked_dict[1][0])\n",
    "revenue = revenue_per_customer*custs_served\n",
    "profit = revenue - staff_costs\n",
    "\n",
    "print(\"You served\", custs_served, \"customers, but\", custs_baulked, \"customers left in frustration.\")\n",
    "print(\"You earned GBP\", revenue, \"and spent GPB\", staff_costs, \"on staff.\")\n",
    "print(\"Your total profit was GBP\", profit)\n",
    "print(custs_served+custs_baulked)\n",
    "\n",
    "h = np.array(Q_cafe.statetracker.history, dtype = object)\n",
    "h[:, 1] = [i[0] for i in h[:, 1]] \n",
    "plt.plot(h[:, 0], h[:, 1])\n",
    "plt.xlabel(\"Time\");\n",
    "plt.ylabel(\"Queue Length\");\n",
    "plt.xlim(6, 22);"
   ]
  },
  {
   "cell_type": "markdown",
   "metadata": {},
   "source": [
    "Can you do better?"
   ]
  }
 ],
 "metadata": {
  "kernelspec": {
   "display_name": "Python 3",
   "language": "python",
   "name": "python3"
  },
  "language_info": {
   "codemirror_mode": {
    "name": "ipython",
    "version": 3
   },
   "file_extension": ".py",
   "mimetype": "text/x-python",
   "name": "python",
   "nbconvert_exporter": "python",
   "pygments_lexer": "ipython3",
   "version": "3.8.5"
  }
 },
 "nbformat": 4,
 "nbformat_minor": 2
}
